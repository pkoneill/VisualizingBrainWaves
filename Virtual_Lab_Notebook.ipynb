{
  "nbformat": 4,
  "nbformat_minor": 0,
  "metadata": {
    "colab": {
      "name": "Copy of VirtualLabNotebook.ipynb",
      "provenance": [],
      "collapsed_sections": [],
      "include_colab_link": true
    },
    "kernelspec": {
      "name": "python3",
      "display_name": "Python 3"
    },
    "language_info": {
      "name": "python"
    }
  },
  "cells": [
    {
      "cell_type": "markdown",
      "metadata": {
        "id": "view-in-github",
        "colab_type": "text"
      },
      "source": [
        "<a href=\"https://colab.research.google.com/github/pkoneill/VisualizingBrainWaves/blob/main/Virtual_Lab_Notebook.ipynb\" target=\"_parent\"><img src=\"https://colab.research.google.com/assets/colab-badge.svg\" alt=\"Open In Colab\"/></a>"
      ]
    },
    {
      "cell_type": "markdown",
      "metadata": {
        "id": "gErILSYIDzmT"
      },
      "source": [
        "#WELCOME TO YOUR VIRTUAL LAB NOTEBOOK\n",
        "Use this notebook to answer questions, jot down your thoughts and think up more questions as you progress through the Virtual Neurophysiology Lab and Filter Lab! \n",
        "\n",
        "*Some notes on text editing in Colab:*\n",
        "1. Double clicking a \"cell\" will allow you to access and modify the source code for this text. \n",
        "2. Double clicking again on the right hand side of a cell will collapse it.\n",
        "3. To add a new text cell Click on  **+ Text** either at top menu bar OR in between cells.\n",
        "\n",
        "Overview of more Colab features <a href=\"https://colab.research.google.com/notebooks/basic_features_overview.ipynb#scrollTo=KR921S_OQSHG\">here</a>\n"
      ]
    },
    {
      "cell_type": "markdown",
      "metadata": {
        "id": "3lUuc10iD-46"
      },
      "source": [
        "# **Virtual Neurophysiology Lab Notes**\n",
        "\n",
        "Hello! Welcome to your first day in the lab.\n",
        "\n",
        "On the screen, you'll see your *preparation*, which is a word scientists use to talk about the physical objects that they are observing in the lab. In your case, you have three neurons. You have three tools at your disposal: a recording electrode (top), a twisted tungsten electrode for applying little jolts of electricity (bottom), and an observation panel -- this is usually a computer screen (right).\n",
        "\n",
        "Move your mouse over various parts of the preparation and You will use the directional pad on your computer keyboard to move your instruments around. \n",
        "\n",      
        "\n",
        "When your instruments are in place, you can begin stimulating. Press the Enter key! Experiment until you are able to start collecting data. \n",
        "\n"
      ]
    },
    {
      "cell_type": "markdown",
      "source": [
        "\n",
        "**QUESTION 1:** What was the configuration of the two electrodes that allowed you to start seeing responses on the observation panel?\n",
        "\n",
        "**ANSWER:**"
      ],
      "metadata": {
        "id": "oXVtdmmvWpxB"
      }
    },
    {
      "cell_type": "markdown",
      "source": [
        "\n",
        "**QUESTION 2:** Describe the variety of responses that you see. Remember, science is about making lots of observations.\n",
        "\n",
        "**ANSWER:**"
      ],
      "metadata": {
        "id": "rb0Emo-QWzJh"
      }
    },
    {
      "cell_type": "markdown",
      "source": [
        "\n",
        "**QUESTION 3:** Create one or more hypotheses about what is happening within your *preparation* that would explain the responses you see. \n",
        "\n",
        "**ANSWER:** "
      ],
      "metadata": {
        "id": "NhiIbVWFW4hP"
      }
    },
    {
      "cell_type": "markdown",
      "source": [
        "\n",
        "**QUESTION 4:** How are the observations you made here related to the waves that Hans Berger was able to see with his primitive EEG?\n",
        "\n",
        "**ANSWER:** "
      ],
      "metadata": {
        "id": "tpHHsZhwW9LR"
      }
    },
    {
      "cell_type": "markdown",
      "metadata": {
        "id": "X0Lta9DOECVz"
      },
      "source": [
        "# **Filter Lab Notes**\n",
        "\n",
        "In your laboratory, you have a set of circuits. You are able to generate a wave of electrical activity that goes in to the circuit by pressing the buttons on the left. The output of the circuit will be apparent on the right.  \n",
        "\n",
        "Try to sort out what happens within each circuit by comparing the inputs and the outputs. For each circuit below, explain what you believe the circuit is doing.\n",
        "\n",
        "**CIRCUIT 1:**\n",
        "\n",
        "**CIRCUIT 2:**\n",
        "\n",
        "**CIRCUIT 3:**\n",
        "\n",
        "**QUESTION:** Given what you have seen here, why do you think such filters would be important for building an EEG?"
      ]
    }
  ]
}
